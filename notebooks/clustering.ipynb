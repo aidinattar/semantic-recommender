{
 "cells": [
  {
   "cell_type": "code",
   "execution_count": 20,
   "id": "8b6e4617",
   "metadata": {},
   "outputs": [],
   "source": [
    "import numpy as np\n",
    "import hdbscan\n",
    "from pathlib import Path\n",
    "import pandas as pd\n",
    "\n",
    "# Parameters\n",
    "EMBEDDINGS_PATH = Path(\"../embeddings/vectors.npy\")  # adapt to your file\n",
    "OUTPUT_LABELS_PATH = Path(\"../embeddings/cluster_labels.npy\")\n",
    "OUTPUT_INFO_PATH = Path(\"../embeddings/cluster_info.csv\")\n",
    "\n",
    "# 1) Load embeddings (N x d)\n",
    "embeddings = np.load(str(EMBEDDINGS_PATH))  # shape (N, d)\n"
   ]
  },
  {
   "cell_type": "code",
   "execution_count": 21,
   "id": "79d4df9b",
   "metadata": {},
   "outputs": [
    {
     "data": {
      "text/plain": [
       "(2710806, 384)"
      ]
     },
     "execution_count": 21,
     "metadata": {},
     "output_type": "execute_result"
    }
   ],
   "source": [
    "embeddings.shape"
   ]
  },
  {
   "cell_type": "code",
   "execution_count": 22,
   "id": "8541c21c",
   "metadata": {},
   "outputs": [],
   "source": [
    "# 1.5) Reduce dimensionality (optional)\n",
    "from sklearn.decomposition import PCA\n",
    "pca = PCA(n_components=10)\n",
    "embeddings = pca.fit_transform(embeddings)  # shape (N, d')\n",
    "# Note: PCA is optional and can be skipped if embeddings are already low-dimensional.\n"
   ]
  },
  {
   "cell_type": "code",
   "execution_count": 23,
   "id": "5529dd36",
   "metadata": {},
   "outputs": [
    {
     "data": {
      "text/plain": [
       "(2710806, 10)"
      ]
     },
     "execution_count": 23,
     "metadata": {},
     "output_type": "execute_result"
    }
   ],
   "source": [
    "embeddings.shape"
   ]
  },
  {
   "cell_type": "code",
   "execution_count": null,
   "id": "f15b34c4",
   "metadata": {},
   "outputs": [],
   "source": [
    "# 2) Run HDBSCAN\n",
    "clusterer = hdbscan.HDBSCAN(\n",
    "    min_cluster_size=50,    # tune as needed\n",
    "    metric='euclidean',     # or 'cosine'\n",
    "    cluster_selection_method='eom'\n",
    ")\n",
    "labels = clusterer.fit_predict(embeddings)  # shape (N,)\n"
   ]
  },
  {
   "cell_type": "code",
   "execution_count": null,
   "id": "810a2ba8",
   "metadata": {},
   "outputs": [],
   "source": [
    "\n",
    "# 3) Save cluster labels\n",
    "np.save(str(OUTPUT_LABELS_PATH), labels)\n",
    "\n",
    "# 4) Compute cluster sizes and example medoids\n",
    "labels_series = pd.Series(labels, name=\"cluster_id\")\n",
    "cluster_sizes = labels_series.value_counts().sort_index().rename(\"size\")\n",
    "cluster_sizes_df = cluster_sizes.reset_index().rename(columns={\"index\": \"cluster_id\"})\n",
    "\n",
    "# Optionally, compute centroids (mean per cluster)\n",
    "centroids = []\n",
    "for cid in sorted(cluster_sizes_df['cluster_id']):\n",
    "    if cid == -1:\n",
    "        continue  # skip noise\n",
    "    cluster_embs = embeddings[labels == cid]\n",
    "    centroids.append(cluster_embs.mean(axis=0))\n",
    "cluster_sizes_df[\"centroid_index\"] = [i for i in cluster_sizes_df['cluster_id'] if i != -1]\n",
    "\n",
    "# Save cluster info\n",
    "cluster_sizes_df.to_csv(str(OUTPUT_INFO_PATH), index=False)\n",
    "\n",
    "# Display summary to user\n",
    "import ace_tools as tools; tools.display_dataframe_to_user(\n",
    "    name=\"HDBSCAN Cluster Summary\",\n",
    "    dataframe=cluster_sizes_df.head(10)  # show top 10 clusters\n",
    ")\n"
   ]
  },
  {
   "cell_type": "code",
   "execution_count": 2,
   "id": "40a93669",
   "metadata": {},
   "outputs": [
    {
     "name": "stdout",
     "output_type": "stream",
     "text": [
      "clustering.ipynb  tests.ipynb\n"
     ]
    }
   ],
   "source": [
    "!ls"
   ]
  }
 ],
 "metadata": {
  "kernelspec": {
   "display_name": "llm-env",
   "language": "python",
   "name": "python3"
  },
  "language_info": {
   "codemirror_mode": {
    "name": "ipython",
    "version": 3
   },
   "file_extension": ".py",
   "mimetype": "text/x-python",
   "name": "python",
   "nbconvert_exporter": "python",
   "pygments_lexer": "ipython3",
   "version": "3.11.12"
  }
 },
 "nbformat": 4,
 "nbformat_minor": 5
}
